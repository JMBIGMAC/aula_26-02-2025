{
  "nbformat": 4,
  "nbformat_minor": 0,
  "metadata": {
    "colab": {
      "provenance": []
    },
    "kernelspec": {
      "name": "python3",
      "display_name": "Python 3"
    },
    "language_info": {
      "name": "python"
    }
  },
  "cells": [
    {
      "cell_type": "code",
      "execution_count": 35,
      "metadata": {
        "colab": {
          "base_uri": "https://localhost:8080/"
        },
        "id": "b63CD6LR0q5y",
        "outputId": "92ef1067-ef4e-417f-b7e0-40a612d5b446"
      },
      "outputs": [
        {
          "output_type": "stream",
          "name": "stdout",
          "text": [
            "Insira a tupla separada por virgula(,):\n",
            "10,20\n",
            "\n",
            "R: 30\n"
          ]
        }
      ],
      "source": [
        "tupli=lambda*tupla:sum(tupla);tupla=map(int,input(\"Insira a tupla separada por virgula(,):\\n\").split(\",\"));print(\"\\nR:\",tupli(*tupla))"
      ]
    }
  ]
}