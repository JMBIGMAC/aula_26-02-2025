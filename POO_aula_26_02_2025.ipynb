{
  "nbformat": 4,
  "nbformat_minor": 0,
  "metadata": {
    "colab": {
      "provenance": []
    },
    "kernelspec": {
      "name": "python3",
      "display_name": "Python 3"
    },
    "language_info": {
      "name": "python"
    }
  },
  "cells": [
    {
      "cell_type": "code",
      "execution_count": 41,
      "metadata": {
        "colab": {
          "base_uri": "https://localhost:8080/"
        },
        "id": "QnNPVkwWEKbE",
        "outputId": "b27d7c8c-0e9a-4324-c94b-dbaec4899144"
      },
      "outputs": [
        {
          "output_type": "stream",
          "name": "stdout",
          "text": [
            "vermelho caloi 2012 600\n",
            "blin blin\n",
            "vruuuuuum\n",
            "bang\n",
            "cor da bicicleta: vermelho\n",
            "nome:Bicicleta\n",
            "cor: vermelho\n",
            "modelo: caloi\n",
            "ano: 2012\n",
            "valor:$600\n"
          ]
        }
      ],
      "source": [
        "#aula\n",
        "class Bicicleta:\n",
        "    def __init__(self, cor, modelo, ano, valor, movimento=False):\n",
        "        self.cor = cor\n",
        "        self.modelo = modelo\n",
        "        self.ano = ano\n",
        "        self.valor = valor\n",
        "        self.movimento = movimento\n",
        "    def parar(self):\n",
        "        self.movimento = False\n",
        "        print(\"bang\")\n",
        "    def buzinar(self):\n",
        "        print(\"blin blin\")\n",
        "    def correr(self):\n",
        "        self.movimento = True\n",
        "        print(\"vruuuuuum\")\n",
        "    def corr(self):\n",
        "        print(\"cor da bicicleta:\", self.cor)\n",
        "    def __str__(self):\n",
        "        return f\"nome:{self.__class__.__name__}\\ncor: {self.cor}\\nmodelo: {self.modelo}\\nano: {self.ano}\\nvalor:${self.valor}\"\n",
        "\n",
        "\n",
        "bicicleta1 = Bicicleta(\"vermelho\", \"caloi\", \"2012\", 600)\n",
        "print(bicicleta1.cor, bicicleta1.modelo, bicicleta1.ano, bicicleta1.valor)\n",
        "bicicleta1.buzinar()\n",
        "bicicleta1.correr()\n",
        "bicicleta1.parar()\n",
        "bicicleta1.corr()\n",
        "#print(bicicleta1.__dict__)\n",
        "print(bicicleta1)"
      ]
    },
    {
      "cell_type": "code",
      "source": [
        "#exercicio1: carros\n",
        "class Carros:\n",
        "    def __init__(self, cor, modelo, ano, valor, movimento=False):self.cor = cor;self.modelo = modelo;self.ano = ano;self.valor = valor;self.movimento = movimento;\n",
        "    def __str__(self):return f\"nome:{self.__class__.__name__}\\ncor: {self.cor}\\nmodelo: {self.modelo}\\nano: {self.ano}\\nvalor:${self.valor}\"\n",
        "car1 = Carros(\"vermelho\", \"caloi\", \"2012\", 600)\n",
        "print(car1)"
      ],
      "metadata": {
        "colab": {
          "base_uri": "https://localhost:8080/"
        },
        "id": "dY1Oy_7mhp5Q",
        "outputId": "971c89b0-15b3-4aa9-8ec6-495bc12b31da"
      },
      "execution_count": 50,
      "outputs": [
        {
          "output_type": "stream",
          "name": "stdout",
          "text": [
            "nome:__main__\n",
            "cor: vermelho\n",
            "modelo: caloi\n",
            "ano: 2012\n",
            "valor:$600\n"
          ]
        }
      ]
    },
    {
      "cell_type": "code",
      "source": [
        "#exercicio2:ContaBancaria\n",
        "class ContaBancaria:\n",
        "    def __init__(self, titular, saldo):\n",
        "        self.__titular = titular\n",
        "        self.__saldo = saldo\n",
        "    def depositar(self, valor):\n",
        "        self.__saldo += valor\n",
        "    def sacar(self, valor):\n",
        "        self.__saldo -= valor\n",
        "    def exibirsaldo(self):\n",
        "        print(f\"Titular: {self.__titular}\\nSaldo: {self.__saldo}\")\n",
        "\n",
        "titular = input(\"Digite o nome do titular: \")\n",
        "saldo = float(input(\"Digite o saldo inicial: \"))\n",
        "conta = ContaBancaria(titular, saldo)\n",
        "conta.exibirsaldo()\n",
        "deposito = float(input(\"Digite o valor do depósito: \"))\n",
        "conta.depositar(deposito)\n",
        "conta.exibirsaldo()"
      ],
      "metadata": {
        "colab": {
          "base_uri": "https://localhost:8080/"
        },
        "id": "klKbPWx-i7P1",
        "outputId": "97db8e44-bea2-485f-960b-88a616cceac4"
      },
      "execution_count": 61,
      "outputs": [
        {
          "output_type": "stream",
          "name": "stdout",
          "text": [
            "Digite o nome do titular: 2\n",
            "Digite o saldo inicial: 3\n",
            "Titular: 2\n",
            "Saldo: 3.0\n",
            "Digite o valor do depósito: 333\n",
            "Titular: 2\n",
            "Saldo: 336.0\n"
          ]
        }
      ]
    },
    {
      "cell_type": "code",
      "source": [
        "#exercicio3:class animal\n",
        "class Animal:\n",
        "    def emitirSom(self):pass\n",
        "class Cachorro(Animal):\n",
        "    def emitirSom(self):print(\"Au au\")\n",
        "class Gato(Animal):\n",
        "    def emitirSom(self):print(\"Miau\")\n",
        "Cachorro().emitirSom()\n",
        "Gato().emitirSom()"
      ],
      "metadata": {
        "colab": {
          "base_uri": "https://localhost:8080/"
        },
        "id": "EZsgDm1GnyrZ",
        "outputId": "92c03e84-d2ad-4b50-a2b2-f17557ad03b2"
      },
      "execution_count": 60,
      "outputs": [
        {
          "output_type": "stream",
          "name": "stdout",
          "text": [
            "Au au\n",
            "Miau\n"
          ]
        }
      ]
    },
    {
      "cell_type": "code",
      "source": [
        "#exercicio4:funcionarios e gerente\n",
        "class Funcionarios:\n",
        "    def __init__(self, nome, salario):\n",
        "        self.nome = nome\n",
        "        self.salario = salario\n",
        "    def exibirInformacoes(self):\n",
        "        print(f\"Nome: {self.nome}\\nSalario: {self.salario}\")\n",
        "class Gerente(Funcionarios):\n",
        "    def __init__(self, nome, salario, bonus):\n",
        "        super().__init__(nome, salario)\n",
        "        self.bonus = bonus\n",
        "    def bonos(self):print(f\"Nome: {self.nome}\\nSalario: {self.salario}\\nBonus: {self.bonus} \\nsalario total: {self.bonus+self.salario}\\n\")\n",
        "\n",
        "gerente = Gerente(\"João\", 3000, 1000)\n",
        "gerente.bonos()\n",
        "funcionario=Funcionarios(\"Maria\", 3000)\n",
        "funcionario.exibirInformacoes()"
      ],
      "metadata": {
        "colab": {
          "base_uri": "https://localhost:8080/"
        },
        "id": "DdjSDLzgqB3w",
        "outputId": "201eb0b6-9ffb-4404-82ac-7f784ac931b4"
      },
      "execution_count": 86,
      "outputs": [
        {
          "output_type": "stream",
          "name": "stdout",
          "text": [
            "Nome: João\n",
            "Salario: 3000\n",
            "Bonus: 1000 \n",
            "salario total: 4000\n",
            "\n",
            "Nome: Maria\n",
            "Salario: 3000\n"
          ]
        }
      ]
    }
  ]
}